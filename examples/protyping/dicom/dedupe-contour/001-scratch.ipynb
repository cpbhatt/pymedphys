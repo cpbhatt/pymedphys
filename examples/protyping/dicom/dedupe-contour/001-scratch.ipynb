{
 "cells": [
  {
   "cell_type": "code",
   "execution_count": null,
   "metadata": {},
   "outputs": [],
   "source": [
    "import numpy as np\n",
    "import matplotlib.pyplot as plt\n",
    "\n",
    "import shapely\n",
    "import shapely.ops\n",
    "\n",
    "import pydicom\n",
    "\n",
    "import pymedphys"
   ]
  },
  {
   "cell_type": "code",
   "execution_count": null,
   "metadata": {},
   "outputs": [],
   "source": [
    "dcm_path = pymedphys.data_path(\"dedupe-contour.dcm\")"
   ]
  },
  {
   "cell_type": "code",
   "execution_count": null,
   "metadata": {},
   "outputs": [],
   "source": [
    "dcm = pydicom.read_file(str(dcm_path), force=True)"
   ]
  },
  {
   "cell_type": "code",
   "execution_count": null,
   "metadata": {},
   "outputs": [],
   "source": [
    "contour_sequences = dcm.ROIContourSequence"
   ]
  },
  {
   "cell_type": "code",
   "execution_count": null,
   "metadata": {},
   "outputs": [],
   "source": [
    "current_contour_sequence = contour_sequences[0]"
   ]
  },
  {
   "cell_type": "code",
   "execution_count": null,
   "metadata": {},
   "outputs": [],
   "source": [
    "current_contour_sequence"
   ]
  },
  {
   "cell_type": "code",
   "execution_count": null,
   "metadata": {},
   "outputs": [],
   "source": [
    "# current_contour_sequence"
   ]
  },
  {
   "cell_type": "code",
   "execution_count": null,
   "metadata": {},
   "outputs": [],
   "source": [
    "contours_by_z = {}\n",
    "image_sequence_by_z = {}\n",
    "\n",
    "expected_contour_keys = {\n",
    "    pydicom.tag.Tag(*tag)\n",
    "    for tag in [(0x3006, 0x0050), (0x3006, 0x0046), (0x3006, 0x0042), (0x3006, 0x0016)]\n",
    "}\n",
    "\n",
    "for contour in current_contour_sequence.ContourSequence:\n",
    "    if contour.ContourGeometricType != 'CLOSED_PLANAR':\n",
    "        raise ValueError(\"Only CLOSED_PLANAR type is supported\")\n",
    "        \n",
    "    if set(contour.keys()) != expected_contour_keys:\n",
    "        raise ValueError(\"Unexpected contour sequence format\")\n",
    "        \n",
    "    contour_data = contour.ContourData\n",
    "        \n",
    "    x = np.array(contour_data[0::3])\n",
    "    y = np.array(contour_data[1::3])\n",
    "    z = np.array(contour_data[2::3])\n",
    "    \n",
    "    unique_z = np.unique(z)\n",
    "    \n",
    "    if len(unique_z) != 1:\n",
    "        raise ValueError(\"All z values should be equal\")\n",
    "        \n",
    "    z = unique_z[0]\n",
    "    polygon = shapely.geometry.Polygon(zip(x, y))\n",
    "    \n",
    "    try:\n",
    "        contours_by_z[z].append(polygon)\n",
    "    except KeyError:\n",
    "        contours_by_z[z] = [polygon]\n",
    "        \n",
    "    try:\n",
    "        image_sequence_by_z[z].append(contour.ContourImageSequence)\n",
    "    except KeyError:\n",
    "        image_sequence_by_z[z] = [contour.ContourImageSequence]"
   ]
  },
  {
   "cell_type": "code",
   "execution_count": null,
   "metadata": {},
   "outputs": [],
   "source": [
    "image_sequence_by_z_collapsed = {}\n",
    "\n",
    "expected_image_sequence_keys = {\n",
    "    pydicom.tag.Tag(*tag)\n",
    "    for tag in [(0x0008, 0x1150), (0x0008, 0x1155)]\n",
    "}\n",
    "\n",
    "for z, image_sequences in image_sequence_by_z.items():\n",
    "    values = set()\n",
    "    \n",
    "    for image_sequence in image_sequences:\n",
    "        if len(image_sequence) != 1:\n",
    "            raise ValueError(\"Expected only one item per image sequence\")\n",
    "            \n",
    "        image_sequence_item = image_sequence[0]\n",
    "        \n",
    "        if set(image_sequence_item.keys()) != expected_image_sequence_keys:\n",
    "            raise ValueError(\"Unexpected contour image sequence format\")\n",
    "            \n",
    "        values.add((\n",
    "            image_sequence_item.ReferencedSOPClassUID,\n",
    "            image_sequence_item.ReferencedSOPInstanceUID,\n",
    "        ))\n",
    "    \n",
    "    if len(values) != 1:\n",
    "        raise ValueError(\"Each z value should only point to one image slice\")\n",
    "        \n",
    "    image_sequence_by_z_collapsed[z] = image_sequences[0]"
   ]
  },
  {
   "cell_type": "code",
   "execution_count": null,
   "metadata": {},
   "outputs": [],
   "source": [
    "merged = {}\n",
    "\n",
    "for z, contours in contours_by_z.items():\n",
    "    merged[z] = shapely.ops.unary_union(contours)"
   ]
  },
  {
   "cell_type": "code",
   "execution_count": null,
   "metadata": {},
   "outputs": [],
   "source": [
    "merged[-100]"
   ]
  },
  {
   "cell_type": "code",
   "execution_count": null,
   "metadata": {},
   "outputs": [],
   "source": [
    "new_contour_sequence = pydicom.sequence.Sequence()\n",
    "\n"
   ]
  },
  {
   "cell_type": "code",
   "execution_count": null,
   "metadata": {},
   "outputs": [],
   "source": []
  },
  {
   "cell_type": "code",
   "execution_count": null,
   "metadata": {},
   "outputs": [],
   "source": [
    "contour_data = contour_sequences[0].ContourSequence[0].ContourData"
   ]
  },
  {
   "cell_type": "code",
   "execution_count": null,
   "metadata": {},
   "outputs": [],
   "source": []
  },
  {
   "cell_type": "code",
   "execution_count": null,
   "metadata": {},
   "outputs": [],
   "source": [
    "x = np.array(contour_data[0::3])\n",
    "y = np.array(contour_data[1::3])\n",
    "z = np.array(contour_data[2::3])\n",
    "\n",
    "z"
   ]
  },
  {
   "cell_type": "code",
   "execution_count": null,
   "metadata": {},
   "outputs": [],
   "source": [
    "assert len(np.unique(z)) == 1"
   ]
  },
  {
   "cell_type": "code",
   "execution_count": null,
   "metadata": {},
   "outputs": [],
   "source": [
    "x"
   ]
  },
  {
   "cell_type": "code",
   "execution_count": null,
   "metadata": {},
   "outputs": [],
   "source": [
    "y"
   ]
  },
  {
   "cell_type": "code",
   "execution_count": null,
   "metadata": {},
   "outputs": [],
   "source": [
    "plt.plot(x, y)\n",
    "plt.axis('equal')"
   ]
  },
  {
   "cell_type": "code",
   "execution_count": null,
   "metadata": {},
   "outputs": [],
   "source": [
    "shapely.geometry.Polygon(zip(x, y))"
   ]
  }
 ],
 "metadata": {
  "kernelspec": {
   "display_name": "pymedphys-master",
   "language": "python",
   "name": "pymedphys-master"
  },
  "language_info": {
   "codemirror_mode": {
    "name": "ipython",
    "version": 3
   },
   "file_extension": ".py",
   "mimetype": "text/x-python",
   "name": "python",
   "nbconvert_exporter": "python",
   "pygments_lexer": "ipython3",
   "version": "3.7.0"
  }
 },
 "nbformat": 4,
 "nbformat_minor": 4
}
