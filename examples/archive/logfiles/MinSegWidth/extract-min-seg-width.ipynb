{
 "cells": [
  {
   "cell_type": "code",
   "execution_count": null,
   "metadata": {},
   "outputs": [],
   "source": [
    "import json\n",
    "import pathlib\n",
    "import random\n",
    "\n",
    "import numpy as np\n",
    "import matplotlib.pyplot as plt\n",
    "\n",
    "import pymedphys.fileformats\n",
    "import pymedphys"
   ]
  },
  {
   "cell_type": "code",
   "execution_count": null,
   "metadata": {},
   "outputs": [],
   "source": [
    "data_dir = pathlib.Path(r'S:\\Physics\\Programming\\Data\\LinacLogFiles')\n",
    "indexed_dir = data_dir.joinpath('indexed')\n",
    "index_filepath = data_dir.joinpath('index.json')"
   ]
  },
  {
   "cell_type": "code",
   "execution_count": null,
   "metadata": {},
   "outputs": [],
   "source": [
    "with open(index_filepath) as a_file:\n",
    "    index = json.load(a_file)"
   ]
  },
  {
   "cell_type": "code",
   "execution_count": null,
   "metadata": {},
   "outputs": [],
   "source": [
    "keys = list(index.keys())\n",
    "random.shuffle(keys)"
   ]
  },
  {
   "cell_type": "code",
   "execution_count": null,
   "metadata": {},
   "outputs": [],
   "source": [
    "# smallest_gap_filepath = ''\n",
    "# smallest_gap_value = np.inf\n",
    "\n",
    "# for key in keys:\n",
    "#     logfile_filepath = indexed_dir.joinpath(index[key]['filepath'])\n",
    "#     delivery = pymedphys.Delivery.from_logfile(logfile_filepath)\n",
    "#     delivery = delivery.filter_cps()\n",
    "#     mlc = np.array(delivery.mlc)\n",
    "#     smallest_gap = np.min(mlc[:,:,0] + mlc[:,:,1])\n",
    "#     if smallest_gap < smallest_gap_value:\n",
    "#         smallest_gap_value = smallest_gap\n",
    "#         smallest_gap_filepath = logfile_filepath\n",
    "#         print(f'Filepath: {smallest_gap_filepath}\\nValue: {smallest_gap_value}\\n')\n",
    "        "
   ]
  },
  {
   "cell_type": "code",
   "execution_count": null,
   "metadata": {},
   "outputs": [],
   "source": [
    "logfile_filepath = next(data_dir.glob(\n",
    "    r'indexed\\rccc\\013517_*\\clinical\\83651_1-1_9-FLD-IMRT_DMLC\\2019-03-21_094941_2619\\19_03_20 22_49_41 Z 1-1_9 FLD IMRT.trf'))\n",
    "delivery = pymedphys.Delivery.from_logfile(logfile_filepath)\n",
    "delivery = delivery.filter_cps()\n",
    "mlc = np.array(delivery.mlc)\n",
    "\n",
    "smallest_gap = np.min(mlc[:,:,0] + mlc[:,:,1])\n",
    "smallest_gap"
   ]
  },
  {
   "cell_type": "code",
   "execution_count": null,
   "metadata": {},
   "outputs": [],
   "source": [
    "indexed_dir.joinpath(logfile_filepath)"
   ]
  },
  {
   "cell_type": "code",
   "execution_count": null,
   "metadata": {},
   "outputs": [],
   "source": [
    "str(logfile_filepath.relative_to(indexed_dir))"
   ]
  },
  {
   "cell_type": "code",
   "execution_count": null,
   "metadata": {},
   "outputs": [],
   "source": [
    "indexed_dir.joinpath(index[keys[0]]['filepath'])"
   ]
  },
  {
   "cell_type": "code",
   "execution_count": null,
   "metadata": {},
   "outputs": [],
   "source": [
    "index_info = {\n",
    "    key: item for key, item in index.items()\n",
    "    if type(item['filepath']) is str and pathlib.Path(item['filepath']) == logfile_filepath.relative_to(indexed_dir)\n",
    "}"
   ]
  },
  {
   "cell_type": "code",
   "execution_count": null,
   "metadata": {},
   "outputs": [],
   "source": [
    "np.where(mlc[:,:,0] + mlc[:,:,1] < 0.1)"
   ]
  },
  {
   "cell_type": "code",
   "execution_count": null,
   "metadata": {},
   "outputs": [],
   "source": [
    "display(index_info)\n",
    "\n",
    "\n",
    "plt.figure(figsize=(10,10))\n",
    "plt.plot(mlc[:,37,0], label='MLC #38, bank 1')\n",
    "plt.plot(-mlc[:,37,1], label='MLC #38, bank 2')\n",
    "plt.plot(mlc[:,37,0] + mlc[:,37,1], alpha=0.3, label='Difference')\n",
    "plt.plot([0, 6000], [0,0], alpha=0.3)\n",
    "plt.xlim([0, len(mlc[:,37,1])])\n",
    "plt.legend();"
   ]
  },
  {
   "cell_type": "code",
   "execution_count": null,
   "metadata": {},
   "outputs": [],
   "source": [
    "plt.figure()\n",
    "plt.plot(mlc[:,37,0] + mlc[:,37,1])\n",
    "plt.show()"
   ]
  }
 ],
 "metadata": {
  "kernelspec": {
   "display_name": "Python 3",
   "language": "python",
   "name": "python3"
  },
  "language_info": {
   "codemirror_mode": {
    "name": "ipython",
    "version": 3
   },
   "file_extension": ".py",
   "mimetype": "text/x-python",
   "name": "python",
   "nbconvert_exporter": "python",
   "pygments_lexer": "ipython3",
   "version": "3.7.0"
  }
 },
 "nbformat": 4,
 "nbformat_minor": 4
}
