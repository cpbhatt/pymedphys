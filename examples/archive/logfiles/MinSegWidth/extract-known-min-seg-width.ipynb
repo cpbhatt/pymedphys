{
 "cells": [
  {
   "cell_type": "code",
   "execution_count": null,
   "metadata": {},
   "outputs": [],
   "source": [
    "import json\n",
    "import pathlib\n",
    "import random\n",
    "\n",
    "import numpy as np\n",
    "import matplotlib.pyplot as plt\n",
    "\n",
    "import pymedphys.fileformats\n",
    "import pymedphys"
   ]
  },
  {
   "cell_type": "code",
   "execution_count": null,
   "metadata": {},
   "outputs": [],
   "source": [
    "data_dir = pathlib.Path(r'.')\n",
    "logfile_paths = list(data_dir.glob('*.trf'))\n",
    "logfile_paths"
   ]
  },
  {
   "cell_type": "code",
   "execution_count": null,
   "metadata": {},
   "outputs": [],
   "source": [
    "for filepath in logfile_paths:\n",
    "\n",
    "    delivery = pymedphys.Delivery.from_logfile(filepath)\n",
    "    mlc = np.array(delivery.mlc)\n",
    "    smallest_gap = np.min(mlc[:,:,0] + mlc[:,:,1])\n",
    "    print(smallest_gap)\n",
    "    \n",
    "    plt.figure()\n",
    "    plt.plot(mlc[:,40,0])\n",
    "    plt.plot(-mlc[:,40,1])\n",
    "    plt.show()"
   ]
  },
  {
   "cell_type": "code",
   "execution_count": null,
   "metadata": {},
   "outputs": [],
   "source": []
  },
  {
   "cell_type": "code",
   "execution_count": null,
   "metadata": {},
   "outputs": [],
   "source": [
    "plt.plot(mlc[:,40,0])\n",
    "plt.plot(-mlc[:,40,1])"
   ]
  }
 ],
 "metadata": {
  "kernelspec": {
   "display_name": "Python 3",
   "language": "python",
   "name": "python3"
  },
  "language_info": {
   "codemirror_mode": {
    "name": "ipython",
    "version": 3
   },
   "file_extension": ".py",
   "mimetype": "text/x-python",
   "name": "python",
   "nbconvert_exporter": "python",
   "pygments_lexer": "ipython3",
   "version": "3.7.0"
  }
 },
 "nbformat": 4,
 "nbformat_minor": 4
}
